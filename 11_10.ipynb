{
  "nbformat": 4,
  "nbformat_minor": 0,
  "metadata": {
    "colab": {
      "provenance": [],
      "authorship_tag": "ABX9TyMzS2pxioZ+li6GJG8QlvIt",
      "include_colab_link": true
    },
    "kernelspec": {
      "name": "python3",
      "display_name": "Python 3"
    },
    "language_info": {
      "name": "python"
    }
  },
  "cells": [
    {
      "cell_type": "markdown",
      "metadata": {
        "id": "view-in-github",
        "colab_type": "text"
      },
      "source": [
        "<a href=\"https://colab.research.google.com/github/gmac1el/Data-Science/blob/main/11_10.ipynb\" target=\"_parent\"><img src=\"https://colab.research.google.com/assets/colab-badge.svg\" alt=\"Open In Colab\"/></a>"
      ]
    },
    {
      "cell_type": "markdown",
      "source": [
        "Definindo os dados de treino"
      ],
      "metadata": {
        "id": "QkNlwfMP4B2L"
      }
    },
    {
      "cell_type": "code",
      "execution_count": 1,
      "metadata": {
        "id": "kX4SrKH93_V2"
      },
      "outputs": [],
      "source": [
        "#quais as features, ou seja,\n",
        "#as caracteristicas dos pacientes?\n",
        "#tossindo?\n",
        "#espirrando?\n",
        "#falta de ar?\n",
        "#febre?\n",
        "#vamos usar 0 para não e 1 para sim\n",
        "\n",
        "gripado1 = [1, 1, 1, 1]\n",
        "gripado2 = [0, 1, 0, 0]\n",
        "gripado3 = [1, 1, 0, 0]\n",
        "gripado4 = [1, 1, 0, 1]\n",
        "\n",
        "alergico1 = [1, 1, 0, 0]\n",
        "alergico2 = [0, 1, 0, 0]\n",
        "alergico3 = [1, 0, 1, 0]\n",
        "alergico4 = [0, 1, 1, 0]\n"
      ]
    },
    {
      "cell_type": "code",
      "source": [
        "dados = [gripado1, gripado2, gripado3, gripado4, alergico1, alergico2, alergico3, alergico4]\n",
        "#categoria 1 = gripado; categoria 0 = alergico\n",
        "categorias = [1, 1, 1 , 1, 0, 0 , 0, 0]"
      ],
      "metadata": {
        "id": "CkP6cvd15ps-"
      },
      "execution_count": 2,
      "outputs": []
    },
    {
      "cell_type": "code",
      "source": [
        "from sklearn.svm import LinearSVC"
      ],
      "metadata": {
        "id": "cc0a_pj56A9z"
      },
      "execution_count": 3,
      "outputs": []
    },
    {
      "cell_type": "markdown",
      "source": [
        "Rodando Treino"
      ],
      "metadata": {
        "id": "hHvB-Z4A6EqW"
      }
    },
    {
      "cell_type": "code",
      "source": [
        "modelo = LinearSVC()\n",
        "modelo.fit(dados, categorias)"
      ],
      "metadata": {
        "colab": {
          "base_uri": "https://localhost:8080/",
          "height": 74
        },
        "id": "OTCToT_-6Gbt",
        "outputId": "d3068a64-53ae-4d47-f628-aa5a1965f7a6"
      },
      "execution_count": 4,
      "outputs": [
        {
          "output_type": "execute_result",
          "data": {
            "text/plain": [
              "LinearSVC()"
            ],
            "text/html": [
              "<style>#sk-container-id-1 {color: black;background-color: white;}#sk-container-id-1 pre{padding: 0;}#sk-container-id-1 div.sk-toggleable {background-color: white;}#sk-container-id-1 label.sk-toggleable__label {cursor: pointer;display: block;width: 100%;margin-bottom: 0;padding: 0.3em;box-sizing: border-box;text-align: center;}#sk-container-id-1 label.sk-toggleable__label-arrow:before {content: \"▸\";float: left;margin-right: 0.25em;color: #696969;}#sk-container-id-1 label.sk-toggleable__label-arrow:hover:before {color: black;}#sk-container-id-1 div.sk-estimator:hover label.sk-toggleable__label-arrow:before {color: black;}#sk-container-id-1 div.sk-toggleable__content {max-height: 0;max-width: 0;overflow: hidden;text-align: left;background-color: #f0f8ff;}#sk-container-id-1 div.sk-toggleable__content pre {margin: 0.2em;color: black;border-radius: 0.25em;background-color: #f0f8ff;}#sk-container-id-1 input.sk-toggleable__control:checked~div.sk-toggleable__content {max-height: 200px;max-width: 100%;overflow: auto;}#sk-container-id-1 input.sk-toggleable__control:checked~label.sk-toggleable__label-arrow:before {content: \"▾\";}#sk-container-id-1 div.sk-estimator input.sk-toggleable__control:checked~label.sk-toggleable__label {background-color: #d4ebff;}#sk-container-id-1 div.sk-label input.sk-toggleable__control:checked~label.sk-toggleable__label {background-color: #d4ebff;}#sk-container-id-1 input.sk-hidden--visually {border: 0;clip: rect(1px 1px 1px 1px);clip: rect(1px, 1px, 1px, 1px);height: 1px;margin: -1px;overflow: hidden;padding: 0;position: absolute;width: 1px;}#sk-container-id-1 div.sk-estimator {font-family: monospace;background-color: #f0f8ff;border: 1px dotted black;border-radius: 0.25em;box-sizing: border-box;margin-bottom: 0.5em;}#sk-container-id-1 div.sk-estimator:hover {background-color: #d4ebff;}#sk-container-id-1 div.sk-parallel-item::after {content: \"\";width: 100%;border-bottom: 1px solid gray;flex-grow: 1;}#sk-container-id-1 div.sk-label:hover label.sk-toggleable__label {background-color: #d4ebff;}#sk-container-id-1 div.sk-serial::before {content: \"\";position: absolute;border-left: 1px solid gray;box-sizing: border-box;top: 0;bottom: 0;left: 50%;z-index: 0;}#sk-container-id-1 div.sk-serial {display: flex;flex-direction: column;align-items: center;background-color: white;padding-right: 0.2em;padding-left: 0.2em;position: relative;}#sk-container-id-1 div.sk-item {position: relative;z-index: 1;}#sk-container-id-1 div.sk-parallel {display: flex;align-items: stretch;justify-content: center;background-color: white;position: relative;}#sk-container-id-1 div.sk-item::before, #sk-container-id-1 div.sk-parallel-item::before {content: \"\";position: absolute;border-left: 1px solid gray;box-sizing: border-box;top: 0;bottom: 0;left: 50%;z-index: -1;}#sk-container-id-1 div.sk-parallel-item {display: flex;flex-direction: column;z-index: 1;position: relative;background-color: white;}#sk-container-id-1 div.sk-parallel-item:first-child::after {align-self: flex-end;width: 50%;}#sk-container-id-1 div.sk-parallel-item:last-child::after {align-self: flex-start;width: 50%;}#sk-container-id-1 div.sk-parallel-item:only-child::after {width: 0;}#sk-container-id-1 div.sk-dashed-wrapped {border: 1px dashed gray;margin: 0 0.4em 0.5em 0.4em;box-sizing: border-box;padding-bottom: 0.4em;background-color: white;}#sk-container-id-1 div.sk-label label {font-family: monospace;font-weight: bold;display: inline-block;line-height: 1.2em;}#sk-container-id-1 div.sk-label-container {text-align: center;}#sk-container-id-1 div.sk-container {/* jupyter's `normalize.less` sets `[hidden] { display: none; }` but bootstrap.min.css set `[hidden] { display: none !important; }` so we also need the `!important` here to be able to override the default hidden behavior on the sphinx rendered scikit-learn.org. See: https://github.com/scikit-learn/scikit-learn/issues/21755 */display: inline-block !important;position: relative;}#sk-container-id-1 div.sk-text-repr-fallback {display: none;}</style><div id=\"sk-container-id-1\" class=\"sk-top-container\"><div class=\"sk-text-repr-fallback\"><pre>LinearSVC()</pre><b>In a Jupyter environment, please rerun this cell to show the HTML representation or trust the notebook. <br />On GitHub, the HTML representation is unable to render, please try loading this page with nbviewer.org.</b></div><div class=\"sk-container\" hidden><div class=\"sk-item\"><div class=\"sk-estimator sk-toggleable\"><input class=\"sk-toggleable__control sk-hidden--visually\" id=\"sk-estimator-id-1\" type=\"checkbox\" checked><label for=\"sk-estimator-id-1\" class=\"sk-toggleable__label sk-toggleable__label-arrow\">LinearSVC</label><div class=\"sk-toggleable__content\"><pre>LinearSVC()</pre></div></div></div></div></div>"
            ]
          },
          "metadata": {},
          "execution_count": 4
        }
      ]
    },
    {
      "cell_type": "markdown",
      "source": [
        "Definindo dados de teste\n"
      ],
      "metadata": {
        "id": "kvRPozdl60fb"
      }
    },
    {
      "cell_type": "code",
      "source": [
        "paciente1 = [0, 1, 0, 1]\n",
        "paciente2 = [0, 0 , 0, 0]\n",
        "paciente3 = [1, 1 , 1, 1]\n",
        "paciente4 = [0, 1, 0, 1]\n",
        "\n",
        "dados_teste = [paciente1, paciente2, paciente3, paciente4]"
      ],
      "metadata": {
        "id": "9i-MtgGt7B9B"
      },
      "execution_count": 5,
      "outputs": []
    },
    {
      "cell_type": "markdown",
      "source": [
        "Testando\n"
      ],
      "metadata": {
        "id": "j07uMWr57i26"
      }
    },
    {
      "cell_type": "code",
      "source": [
        "modelo.predict(dados_teste)\n"
      ],
      "metadata": {
        "colab": {
          "base_uri": "https://localhost:8080/"
        },
        "id": "K6vT7Glf7kYG",
        "outputId": "568b5626-65bf-47c6-c0e1-eb0aa450bca4"
      },
      "execution_count": 7,
      "outputs": [
        {
          "output_type": "execute_result",
          "data": {
            "text/plain": [
              "array([1, 0, 1, 1])"
            ]
          },
          "metadata": {},
          "execution_count": 7
        }
      ]
    },
    {
      "cell_type": "markdown",
      "source": [
        "Dado um novo paciente, vamos avaliar a possibilidade de ele estar gripado"
      ],
      "metadata": {
        "id": "JkorIgHf81RS"
      }
    },
    {
      "cell_type": "code",
      "source": [
        "novo_paciente = [0,1,0,0]\n",
        "modelo.predict([novo_paciente])"
      ],
      "metadata": {
        "colab": {
          "base_uri": "https://localhost:8080/"
        },
        "id": "fOzkFG2M8_GE",
        "outputId": "3dde1ae5-532b-4636-fce2-108a04201d53"
      },
      "execution_count": 8,
      "outputs": [
        {
          "output_type": "execute_result",
          "data": {
            "text/plain": [
              "array([0])"
            ]
          },
          "metadata": {},
          "execution_count": 8
        }
      ]
    },
    {
      "cell_type": "code",
      "source": [
        "if (modelo.predict([novo_paciente]) == 0):\n",
        "  print ('Paciente potencialmente alérgico')\n",
        "else:\n",
        "    print ('Paciente potencialmente gripado')"
      ],
      "metadata": {
        "colab": {
          "base_uri": "https://localhost:8080/"
        },
        "id": "xShhwxAU9IgR",
        "outputId": "e4f49b68-5b05-4234-a821-1d866838d74c"
      },
      "execution_count": 10,
      "outputs": [
        {
          "output_type": "stream",
          "name": "stdout",
          "text": [
            "Paciente potencialmente alérgico\n"
          ]
        }
      ]
    },
    {
      "cell_type": "markdown",
      "source": [
        "Salvar a aplicação do nosso modelo sobre os dados de teste na variável predições"
      ],
      "metadata": {
        "id": "U5Z5CzlD9jXo"
      }
    },
    {
      "cell_type": "code",
      "source": [
        "predicoes = modelo.predict(dados_teste)"
      ],
      "metadata": {
        "id": "T6vxLfhw9tmC"
      },
      "execution_count": 29,
      "outputs": []
    },
    {
      "cell_type": "code",
      "source": [
        "#vamos supor que temos casos com exames que confirmaram\n",
        "#o seguinte sobre os pacientes terem gripe ou não\n",
        "#vamos comparar nosso modelo com a realidade\n",
        "exames = [1,0,1,0]"
      ],
      "metadata": {
        "id": "Njh3Gj4C92IU"
      },
      "execution_count": 30,
      "outputs": []
    },
    {
      "cell_type": "code",
      "source": [
        "predicoes == exames"
      ],
      "metadata": {
        "colab": {
          "base_uri": "https://localhost:8080/"
        },
        "id": "CkLabpNr-Ge9",
        "outputId": "271b0e1f-eb47-4959-ed73-d7041e8f4c2c"
      },
      "execution_count": 31,
      "outputs": [
        {
          "output_type": "execute_result",
          "data": {
            "text/plain": [
              "array([ True,  True,  True, False])"
            ]
          },
          "metadata": {},
          "execution_count": 31
        }
      ]
    },
    {
      "cell_type": "code",
      "source": [
        "#total de acertos do nosso modelo:\n",
        "total_acertos = (predicoes == exames).sum()\n",
        "total_acertos"
      ],
      "metadata": {
        "colab": {
          "base_uri": "https://localhost:8080/"
        },
        "id": "PomQN4qY-4YD",
        "outputId": "030afc62-518b-46b2-c69f-d7f51e90a142"
      },
      "execution_count": 32,
      "outputs": [
        {
          "output_type": "execute_result",
          "data": {
            "text/plain": [
              "3"
            ]
          },
          "metadata": {},
          "execution_count": 32
        }
      ]
    },
    {
      "cell_type": "code",
      "source": [
        "total_predicoes = len(dados_teste)\n",
        "total_predicoes"
      ],
      "metadata": {
        "colab": {
          "base_uri": "https://localhost:8080/"
        },
        "id": "75vVm1dg_H7k",
        "outputId": "4e419d37-5809-4ccd-cb29-1d36d2d33d50"
      },
      "execution_count": 33,
      "outputs": [
        {
          "output_type": "execute_result",
          "data": {
            "text/plain": [
              "4"
            ]
          },
          "metadata": {},
          "execution_count": 33
        }
      ]
    },
    {
      "cell_type": "code",
      "source": [
        "#qual foi a nossa taxa de sucesso?\n",
        "taxa_sucesso = total_acertos / total_predicoes *100\n",
        "taxa_sucesso"
      ],
      "metadata": {
        "colab": {
          "base_uri": "https://localhost:8080/"
        },
        "id": "7ymHQ3TP_dWS",
        "outputId": "aefd0718-8e7d-4fdd-fcc8-846cd03492bc"
      },
      "execution_count": 34,
      "outputs": [
        {
          "output_type": "execute_result",
          "data": {
            "text/plain": [
              "75.0"
            ]
          },
          "metadata": {},
          "execution_count": 34
        }
      ]
    },
    {
      "cell_type": "code",
      "source": [
        "print ('A taxa de sucesso do seu modelo preditivo foi de ', taxa_sucesso, '%. ' )\n"
      ],
      "metadata": {
        "colab": {
          "base_uri": "https://localhost:8080/"
        },
        "id": "75QTtg26_cUM",
        "outputId": "3e182f60-0d28-4fa5-eacc-c0ddacbac0bf"
      },
      "execution_count": 35,
      "outputs": [
        {
          "output_type": "stream",
          "name": "stdout",
          "text": [
            "A taxa de sucesso do seu modelo preditivo foi de  75.0 %. \n"
          ]
        }
      ]
    }
  ]
}